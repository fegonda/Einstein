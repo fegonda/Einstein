{
 "cells": [
  {
   "cell_type": "code",
   "execution_count": 1,
   "metadata": {},
   "outputs": [
    {
     "ename": "ImportError",
     "evalue": "No module named keras",
     "traceback": [
      "\u001b[0;31m---------------------------------------------------------------------------\u001b[0m",
      "\u001b[0;31mImportError\u001b[0m                               Traceback (most recent call last)",
      "\u001b[0;32m<ipython-input-1-01b827af7a35>\u001b[0m in \u001b[0;36m<module>\u001b[0;34m()\u001b[0m\n\u001b[1;32m      1\u001b[0m \u001b[0;32mimport\u001b[0m \u001b[0mnumpy\u001b[0m \u001b[0;32mas\u001b[0m \u001b[0mnp\u001b[0m\u001b[0;34m\u001b[0m\u001b[0m\n\u001b[1;32m      2\u001b[0m \u001b[0;32mimport\u001b[0m \u001b[0mpandas\u001b[0m \u001b[0;32mas\u001b[0m \u001b[0mpd\u001b[0m\u001b[0;34m\u001b[0m\u001b[0m\n\u001b[0;32m----> 3\u001b[0;31m \u001b[0;32mimport\u001b[0m \u001b[0mkeras\u001b[0m\u001b[0;34m\u001b[0m\u001b[0m\n\u001b[0m\u001b[1;32m      4\u001b[0m \u001b[0;32mfrom\u001b[0m \u001b[0mkeras\u001b[0m\u001b[0;34m.\u001b[0m\u001b[0mmodels\u001b[0m \u001b[0;32mimport\u001b[0m \u001b[0mSequential\u001b[0m\u001b[0;34m\u001b[0m\u001b[0m\n\u001b[1;32m      5\u001b[0m \u001b[0;34m\u001b[0m\u001b[0m\n",
      "\u001b[0;31mImportError\u001b[0m: No module named keras"
     ],
     "output_type": "error"
    }
   ],
   "source": [
    "import numpy as np\n",
    "import pandas as pd\n",
    "import keras\n",
    "from keras.models import Sequential\n",
    "\n",
    "from keras.layers import Dense, Dropout\n",
    "# from keras.layers.normalization import BatchNormalization\n",
    "from keras.wrappers.scikit_learn import KerasRegressor\n",
    "from sklearn.model_selection import cross_val_score\n",
    "from sklearn.model_selection import KFold\n",
    "from sklearn.preprocessing import StandardScaler\n",
    "from sklearn.pipeline import Pipeline\n",
    "from sklearn.model_selection import train_test_split"
   ]
  },
  {
   "cell_type": "code",
   "execution_count": 60,
   "metadata": {},
   "outputs": [],
   "source": [
    "df_train = pd.read_csv('./data/asilomar_nov182017_all.csv')\n",
    "# this is actually [u1, v1, u2, v2]\n",
    "X = df_train[['u','v','w','h']]\n",
    "y = df_train['distance']"
   ]
  },
  {
   "cell_type": "code",
   "execution_count": 2,
   "metadata": {},
   "outputs": [
    {
     "ename": "NameError",
     "evalue": "name 'train_test_split' is not defined",
     "traceback": [
      "\u001b[0;31m---------------------------------------------------------------------------\u001b[0m",
      "\u001b[0;31mNameError\u001b[0m                                 Traceback (most recent call last)",
      "\u001b[0;32m<ipython-input-2-2d52967d6e5a>\u001b[0m in \u001b[0;36m<module>\u001b[0;34m()\u001b[0m\n\u001b[0;32m----> 1\u001b[0;31m \u001b[0mX_train\u001b[0m\u001b[0;34m,\u001b[0m \u001b[0mX_val\u001b[0m\u001b[0;34m,\u001b[0m \u001b[0my_train\u001b[0m\u001b[0;34m,\u001b[0m \u001b[0my_val\u001b[0m \u001b[0;34m=\u001b[0m \u001b[0mtrain_test_split\u001b[0m\u001b[0;34m(\u001b[0m\u001b[0mX\u001b[0m\u001b[0;34m,\u001b[0m\u001b[0my\u001b[0m\u001b[0;34m,\u001b[0m\u001b[0mtest_size\u001b[0m\u001b[0;34m=\u001b[0m\u001b[0;36m0.30\u001b[0m\u001b[0;34m)\u001b[0m\u001b[0;34m\u001b[0m\u001b[0m\n\u001b[0m\u001b[1;32m      2\u001b[0m \u001b[0mscaler\u001b[0m \u001b[0;34m=\u001b[0m \u001b[0mStandardScaler\u001b[0m\u001b[0;34m(\u001b[0m\u001b[0;34m)\u001b[0m\u001b[0;34m\u001b[0m\u001b[0m\n\u001b[1;32m      3\u001b[0m \u001b[0mscaler\u001b[0m\u001b[0;34m.\u001b[0m\u001b[0mfit\u001b[0m\u001b[0;34m(\u001b[0m\u001b[0mX_train\u001b[0m\u001b[0;34m)\u001b[0m\u001b[0;34m\u001b[0m\u001b[0m\n\u001b[1;32m      4\u001b[0m \u001b[0mX_train\u001b[0m \u001b[0;34m=\u001b[0m \u001b[0mscaler\u001b[0m\u001b[0;34m.\u001b[0m\u001b[0mtransform\u001b[0m\u001b[0;34m(\u001b[0m\u001b[0mX_train\u001b[0m\u001b[0;34m)\u001b[0m\u001b[0;34m\u001b[0m\u001b[0m\n\u001b[1;32m      5\u001b[0m \u001b[0mX_val\u001b[0m \u001b[0;34m=\u001b[0m \u001b[0mscaler\u001b[0m\u001b[0;34m.\u001b[0m\u001b[0mtransform\u001b[0m\u001b[0;34m(\u001b[0m\u001b[0mX_val\u001b[0m\u001b[0;34m)\u001b[0m\u001b[0;34m\u001b[0m\u001b[0m\n",
      "\u001b[0;31mNameError\u001b[0m: name 'train_test_split' is not defined"
     ],
     "output_type": "error"
    }
   ],
   "source": [
    "X_train, X_val, y_train, y_val = train_test_split(X,y,test_size=0.30)\n",
    "scaler = StandardScaler()\n",
    "scaler.fit(X_train)\n",
    "X_train = scaler.transform(X_train)\n",
    "X_val = scaler.transform(X_val)"
   ]
  },
  {
   "cell_type": "code",
   "execution_count": 62,
   "metadata": {},
   "outputs": [],
   "source": [
    "NUM_FEATURES = len(X.columns)"
   ]
  },
  {
   "cell_type": "code",
   "execution_count": 63,
   "metadata": {},
   "outputs": [],
   "source": [
    "def dist_regression_neural_net():\n",
    "    model = Sequential()\n",
    "    model.add(Dense(NUM_FEATURES*4, input_dim=NUM_FEATURES, activation='relu'))\n",
    "#     model.add(BatchNormalization())\n",
    "    model.add(Dense(NUM_FEATURES*4, activation='relu'))\n",
    "#     model.add(BatchNormalization())\n",
    "    model.add(Dense(NUM_FEATURES*4, activation='relu'))\n",
    "#     model.add(BatchNormalization())\n",
    "    model.add(Dense(NUM_FEATURES*4, activation='relu'))\n",
    "#     model.add(BatchNormalization())\n",
    "    model.add(Dense(NUM_FEATURES*4, activation='relu'))\n",
    "#     model.add(BatchNormalization())\n",
    "    model.add(Dense(NUM_FEATURES*4, activation='relu'))\n",
    "    model.add(Dense(NUM_FEATURES*4, activation='relu'))\n",
    "    model.add(Dense(1))\n",
    "    return model"
   ]
  },
  {
   "cell_type": "code",
   "execution_count": 75,
   "metadata": {
    "scrolled": true
   },
   "outputs": [
    {
     "name": "stdout",
     "output_type": "stream",
     "text": [
      "Train on 11088 samples, validate on 4753 samples\n",
      "Epoch 1/30\n",
      "11088/11088 [==============================] - 1s 75us/step - loss: 1015.6877 - val_loss: 169.0422\n",
      "Epoch 2/30\n",
      "11088/11088 [==============================] - 1s 57us/step - loss: 162.2113 - val_loss: 150.5284\n",
      "Epoch 3/30\n",
      "11088/11088 [==============================] - 0s 43us/step - loss: 150.8732 - val_loss: 139.1187\n",
      "Epoch 4/30\n",
      "11088/11088 [==============================] - 1s 45us/step - loss: 140.5577 - val_loss: 128.4612\n",
      "Epoch 5/30\n",
      "11088/11088 [==============================] - 0s 44us/step - loss: 128.3986 - val_loss: 117.0210\n",
      "Epoch 6/30\n",
      "11088/11088 [==============================] - 1s 46us/step - loss: 120.3449 - val_loss: 109.5576\n",
      "Epoch 7/30\n",
      "11088/11088 [==============================] - 1s 55us/step - loss: 112.6414 - val_loss: 105.9063\n",
      "Epoch 8/30\n",
      "11088/11088 [==============================] - 1s 55us/step - loss: 108.6662 - val_loss: 109.4086\n",
      "Epoch 9/30\n",
      "11088/11088 [==============================] - 0s 45us/step - loss: 105.6482 - val_loss: 99.7117\n",
      "Epoch 10/30\n",
      "11088/11088 [==============================] - 1s 45us/step - loss: 103.2657 - val_loss: 104.2099\n",
      "Epoch 11/30\n",
      "11088/11088 [==============================] - 1s 46us/step - loss: 102.8811 - val_loss: 95.0987\n",
      "Epoch 12/30\n",
      "11088/11088 [==============================] - 1s 59us/step - loss: 102.2891 - val_loss: 101.7041\n",
      "Epoch 13/30\n",
      "11088/11088 [==============================] - 0s 45us/step - loss: 101.2161 - val_loss: 94.3068\n",
      "Epoch 14/30\n",
      "11088/11088 [==============================] - 1s 61us/step - loss: 101.2621 - val_loss: 96.4744\n",
      "Epoch 15/30\n",
      "11088/11088 [==============================] - 1s 46us/step - loss: 100.1753 - val_loss: 93.4998\n",
      "Epoch 16/30\n",
      "11088/11088 [==============================] - 1s 45us/step - loss: 98.2420 - val_loss: 92.3592\n",
      "Epoch 17/30\n",
      "11088/11088 [==============================] - 1s 50us/step - loss: 97.4617 - val_loss: 93.4934\n",
      "Epoch 18/30\n",
      "11088/11088 [==============================] - 1s 54us/step - loss: 98.5291 - val_loss: 96.8401\n",
      "Epoch 19/30\n",
      "11088/11088 [==============================] - 1s 50us/step - loss: 98.2272 - val_loss: 93.1109\n",
      "Epoch 20/30\n",
      "11088/11088 [==============================] - 1s 47us/step - loss: 96.8513 - val_loss: 91.1255\n",
      "Epoch 21/30\n",
      "11088/11088 [==============================] - 0s 45us/step - loss: 96.4984 - val_loss: 101.5088\n",
      "Epoch 22/30\n",
      "11088/11088 [==============================] - 1s 46us/step - loss: 95.9956 - val_loss: 99.1510\n",
      "Epoch 23/30\n",
      "11088/11088 [==============================] - 1s 46us/step - loss: 95.6225 - val_loss: 89.8868\n",
      "Epoch 24/30\n",
      "11088/11088 [==============================] - 1s 49us/step - loss: 97.3116 - val_loss: 89.8478\n",
      "Epoch 25/30\n",
      "11088/11088 [==============================] - 0s 45us/step - loss: 95.8530 - val_loss: 95.2658\n",
      "Epoch 26/30\n",
      "11088/11088 [==============================] - 0s 43us/step - loss: 94.5291 - val_loss: 90.0711\n",
      "Epoch 27/30\n",
      "11088/11088 [==============================] - 1s 47us/step - loss: 94.1214 - val_loss: 90.7326\n",
      "Epoch 28/30\n",
      "11088/11088 [==============================] - 0s 45us/step - loss: 93.7822 - val_loss: 88.1570\n",
      "Epoch 29/30\n",
      "11088/11088 [==============================] - 0s 44us/step - loss: 94.7477 - val_loss: 89.7637\n",
      "Epoch 30/30\n",
      "11088/11088 [==============================] - 1s 48us/step - loss: 92.8143 - val_loss: 88.7509\n"
     ]
    },
    {
     "data": {
      "text/plain": [
       "<keras.callbacks.History at 0x7fa4ebabb5d0>"
      ]
     },
     "execution_count": 75,
     "metadata": {},
     "output_type": "execute_result"
    }
   ],
   "source": [
    "from keras.optimizers import Adam\n",
    "opt = Adam(lr=0.01)\n",
    "model = dist_regression_neural_net().compile(loss='mean_squared_error', optimizer=opt)\n",
    "neural_net = dist_regression_neural_net()\n",
    "neural_net.fit(x=X_train, \n",
    "          y=y_train, \n",
    "          batch_size=32, \n",
    "          epochs=30, validation_data = (X_val, y_val))"
   ]
  },
  {
   "cell_type": "code",
   "execution_count": 76,
   "metadata": {},
   "outputs": [],
   "source": [
    "def evaluate_model(model, X_val, y_val):\n",
    "    # training error\n",
    "    pred = model.predict(X_val)\n",
    "\n",
    "    error = y_val[:,np.newaxis]-pred\n",
    "    print 'MSE: {}'.format(np.mean(np.square(error)))\n",
    "\n",
    "    # mean absolute percentage\n",
    "    mean_abs_percentage = np.mean(np.abs(error)/y_val[:,np.newaxis])\n",
    "    print 'Mean Abs Percentage:{}'.format(mean_abs_percentage)"
   ]
  },
  {
   "cell_type": "code",
   "execution_count": 77,
   "metadata": {},
   "outputs": [
    {
     "data": {
      "text/plain": [
       "LinearRegression(copy_X=True, fit_intercept=True, n_jobs=1, normalize=False)"
      ]
     },
     "execution_count": 77,
     "metadata": {},
     "output_type": "execute_result"
    }
   ],
   "source": [
    "from sklearn.linear_model import LinearRegression\n",
    "linear_regressor = LinearRegression()\n",
    "linear_regressor.fit(X=X_train, y=y_train)"
   ]
  },
  {
   "cell_type": "code",
   "execution_count": 78,
   "metadata": {},
   "outputs": [
    {
     "name": "stdout",
     "output_type": "stream",
     "text": [
      "MSE: 1266.25511175\n",
      "Mean Abs Percentage:0.858455399463\n"
     ]
    }
   ],
   "source": [
    "evaluate_model(linear_regressor, X_val, y_val)"
   ]
  },
  {
   "cell_type": "code",
   "execution_count": 79,
   "metadata": {},
   "outputs": [
    {
     "name": "stdout",
     "output_type": "stream",
     "text": [
      "MSE: 88.7509389706\n",
      "Mean Abs Percentage:0.114321433865\n"
     ]
    }
   ],
   "source": [
    "evaluate_model(neural_net, X_val, y_val)"
   ]
  },
  {
   "cell_type": "markdown",
   "metadata": {},
   "source": [
    "### Plot the training data"
   ]
  },
  {
   "cell_type": "code",
   "execution_count": 80,
   "metadata": {},
   "outputs": [
    {
     "data": {
      "text/plain": [
       "([array([   0.,    0.,  314.,  185., 1122., 3894., 5116.,  303.,  146.,\n",
       "            8.]),\n",
       "  array([2.000e+00, 1.500e+01, 2.300e+01, 3.860e+02, 1.163e+03, 5.089e+03,\n",
       "         3.240e+03, 1.026e+03, 1.020e+02, 4.200e+01]),\n",
       "  array([   0.,    0.,  357.,   51.,  210., 7340., 1871., 1043.,  119.,\n",
       "           97.]),\n",
       "  array([   0.,    0.,    0.,    0., 1842., 6050., 1342., 1654.,  200.,\n",
       "            0.])],\n",
       " array([-5.98124678, -4.94626002, -3.91127326, -2.8762865 , -1.84129974,\n",
       "        -0.80631298,  0.22867378,  1.26366054,  2.2986473 ,  3.33363406,\n",
       "         4.36862082]),\n",
       " <a list of 4 Lists of Patches objects>)"
      ]
     },
     "execution_count": 80,
     "metadata": {},
     "output_type": "execute_result"
    },
    {
     "data": {
      "image/png": "[encoded data removed]",
      "text/plain": [
       "<matplotlib.figure.Figure at 0x7fa4eba50850>"
      ]
     },
     "metadata": {},
     "output_type": "display_data"
    }
   ],
   "source": [
    "import matplotlib.pyplot as plt\n",
    "%matplotlib inline\n",
    "plt.figure(figsize=(12,8))\n",
    "plt.hist(X_train)"
   ]
  },
  {
   "cell_type": "markdown",
   "metadata": {},
   "source": [
    "### Let's evaluate a single sample with the neural net"
   ]
  },
  {
   "cell_type": "code",
   "execution_count": 83,
   "metadata": {},
   "outputs": [
    {
     "name": "stdout",
     "output_type": "stream",
     "text": [
      "Ground truth:\n",
      "(u    262\n",
      "v    252\n",
      "w    341\n",
      "h    326\n",
      "Name: 50, dtype: int64, 43.30380716)\n",
      "prediction: [[44.18644]]\n"
     ]
    }
   ],
   "source": [
    "def eval_single_sample(model, X, y, sample_index=0):\n",
    "    print(\"Ground truth:\")\n",
    "    print(X.loc[sample_index], y.loc[sample_index])\n",
    "    X_single_sample = scaler.transform([X.loc[sample_index].values])\n",
    "    X_single_sample\n",
    "    y_single_sample = y[sample_index]\n",
    "    single_prediction = model.predict(x=X_single_sample)\n",
    "    print(\"prediction: {}\".format(single_prediction))\n",
    "eval_single_sample(neural_net, X,y, sample_index=50)"
   ]
  },
  {
   "cell_type": "markdown",
   "metadata": {},
   "source": [
    "TODO: plot predictions vs ground truth"
   ]
  },
  {
   "cell_type": "code",
   "execution_count": null,
   "metadata": {},
   "outputs": [],
   "source": [
    ""
   ]
  }
 ],
 "metadata": {
  "kernelspec": {
   "display_name": "Python 2",
   "language": "python",
   "name": "python2"
  },
  "language_info": {
   "codemirror_mode": {
    "name": "ipython",
    "version": 2.0
   },
   "file_extension": ".py",
   "mimetype": "text/x-python",
   "name": "python",
   "nbconvert_exporter": "python",
   "pygments_lexer": "ipython2",
   "version": "2.7.12"
  }
 },
 "nbformat": 4,
 "nbformat_minor": 0
}