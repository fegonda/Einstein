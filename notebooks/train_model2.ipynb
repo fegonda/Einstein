{
 "cells": [
  {
   "cell_type": "code",
   "execution_count": 2,
   "metadata": {},
   "outputs": [
    {
     "name": "stdout",
     "output_type": "stream",
     "text": [
      "Collecting keras\n",
      "  Downloading Keras-2.1.2-py2.py3-none-any.whl (304kB)\n",
      "\u001b[K    100% |████████████████████████████████| 307kB 2.3MB/s ta 0:00:01\n",
      "\u001b[?25hRequirement already satisfied: pyyaml in /home/robert/.local/lib/python2.7/site-packages (from keras)\n",
      "Requirement already satisfied: numpy>=1.9.1 in /home/robert/anaconda2/lib/python2.7/site-packages (from keras)\n",
      "Requirement already satisfied: six>=1.9.0 in /home/robert/.local/lib/python2.7/site-packages (from keras)\n",
      "Requirement already satisfied: scipy>=0.14 in /home/robert/.local/lib/python2.7/site-packages (from keras)\n",
      "Installing collected packages: keras\n",
      "Successfully installed keras-2.1.2\n"
     ]
    }
   ],
   "source": [
    "!pip install keras"
   ]
  },
  {
   "cell_type": "code",
   "execution_count": 16,
   "metadata": {},
   "outputs": [],
   "source": [
    "import numpy as np\n",
    "import pandas as pd\n",
    "import keras\n",
    "from keras.models import Sequential\n",
    "\n",
    "from keras.layers import Dense, Dropout\n",
    "# from keras.layers.normalization import BatchNormalization\n",
    "from keras.wrappers.scikit_learn import KerasRegressor\n",
    "from sklearn.model_selection import cross_val_score\n",
    "from sklearn.model_selection import KFold\n",
    "from sklearn.preprocessing import StandardScaler\n",
    "from sklearn.pipeline import Pipeline\n",
    "from sklearn.model_selection import train_test_split"
   ]
  },
  {
   "cell_type": "code",
   "execution_count": 17,
   "metadata": {},
   "outputs": [],
   "source": [
    "df_train = pd.read_csv('./notebooks/data/asilomar_nov182017_all.csv')\n",
    "# this is actually [u1, v1, u2, v2]\n",
    "X = df_train[['u','v','w','h']]\n",
    "y = df_train['distance']"
   ]
  },
  {
   "cell_type": "code",
   "execution_count": 18,
   "metadata": {},
   "outputs": [],
   "source": [
    "X_train, X_val, y_train, y_val = train_test_split(X,y,test_size=0.30)\n",
    "scaler = StandardScaler()\n",
    "scaler.fit(X_train)\n",
    "X_train = scaler.transform(X_train)\n",
    "X_val = scaler.transform(X_val)"
   ]
  },
  {
   "cell_type": "code",
   "execution_count": 19,
   "metadata": {},
   "outputs": [],
   "source": [
    "NUM_FEATURES = len(X.columns)"
   ]
  },
  {
   "cell_type": "code",
   "execution_count": 20,
   "metadata": {},
   "outputs": [],
   "source": [
    "def dist_regression_model():\n",
    "    model = Sequential()\n",
    "    model.add(Dense(NUM_FEATURES*4, input_dim=NUM_FEATURES, activation='relu'))\n",
    "#     model.add(BatchNormalization())\n",
    "    model.add(Dense(NUM_FEATURES*4, activation='relu'))\n",
    "#     model.add(BatchNormalization())\n",
    "    model.add(Dense(NUM_FEATURES*4, activation='relu'))\n",
    "#     model.add(BatchNormalization())\n",
    "    model.add(Dense(NUM_FEATURES*4, activation='relu'))\n",
    "#     model.add(BatchNormalization())\n",
    "    model.add(Dense(NUM_FEATURES*4, activation='relu'))\n",
    "#     model.add(BatchNormalization())\n",
    "    model.add(Dense(NUM_FEATURES*4, activation='relu'))\n",
    "    model.add(Dense(NUM_FEATURES*4, activation='relu'))\n",
    "    model.add(Dense(1))\n",
    "    model.compile(loss='mean_squared_error', optimizer='adam')\n",
    "    return model"
   ]
  },
  {
   "cell_type": "code",
   "execution_count": 21,
   "metadata": {},
   "outputs": [],
   "source": [
    "model = dist_regression_model()"
   ]
  },
  {
   "cell_type": "code",
   "execution_count": 32,
   "metadata": {},
   "outputs": [
    {
     "name": "stdout",
     "output_type": "stream",
     "text": [
      "Train on 11088 samples, validate on 4753 samples\n",
      "Epoch 1/30\n",
      "11088/11088 [==============================] - 1s 47us/step - loss: 86.1270 - val_loss: 75.6218\n",
      "Epoch 2/30\n",
      "11088/11088 [==============================] - 0s 42us/step - loss: 85.7471 - val_loss: 87.2043\n",
      "Epoch 3/30\n",
      "11088/11088 [==============================] - 0s 41us/step - loss: 86.3141 - val_loss: 86.7846\n",
      "Epoch 4/30\n",
      "11088/11088 [==============================] - 0s 44us/step - loss: 86.9812 - val_loss: 76.4634\n",
      "Epoch 5/30\n",
      "11088/11088 [==============================] - 0s 42us/step - loss: 85.0524 - val_loss: 75.6891\n",
      "Epoch 6/30\n",
      "11088/11088 [==============================] - 0s 42us/step - loss: 85.0799 - val_loss: 78.1240\n",
      "Epoch 7/30\n",
      "11088/11088 [==============================] - 0s 42us/step - loss: 84.5779 - val_loss: 75.0212\n",
      "Epoch 8/30\n",
      "11088/11088 [==============================] - 0s 42us/step - loss: 86.4133 - val_loss: 74.8697\n",
      "Epoch 9/30\n",
      "11088/11088 [==============================] - 1s 50us/step - loss: 84.5353 - val_loss: 74.9469\n",
      "Epoch 10/30\n",
      "11088/11088 [==============================] - 0s 44us/step - loss: 86.7585 - val_loss: 74.0638\n",
      "Epoch 11/30\n",
      "11088/11088 [==============================] - 0s 42us/step - loss: 84.9974 - val_loss: 73.7373\n",
      "Epoch 12/30\n",
      "11088/11088 [==============================] - 0s 42us/step - loss: 83.4999 - val_loss: 74.5354\n",
      "Epoch 13/30\n",
      "11088/11088 [==============================] - 0s 42us/step - loss: 84.8117 - val_loss: 76.2713\n",
      "Epoch 14/30\n",
      "11088/11088 [==============================] - 0s 42us/step - loss: 83.5472 - val_loss: 73.8927\n",
      "Epoch 15/30\n",
      "11088/11088 [==============================] - 0s 43us/step - loss: 83.1511 - val_loss: 76.7560\n",
      "Epoch 16/30\n",
      "11088/11088 [==============================] - 0s 43us/step - loss: 83.5901 - val_loss: 77.7711\n",
      "Epoch 17/30\n",
      "11088/11088 [==============================] - 1s 45us/step - loss: 83.3393 - val_loss: 81.9953\n",
      "Epoch 18/30\n",
      "11088/11088 [==============================] - 1s 56us/step - loss: 82.7824 - val_loss: 75.0146\n",
      "Epoch 19/30\n",
      "11088/11088 [==============================] - 1s 46us/step - loss: 83.5137 - val_loss: 72.1836\n",
      "Epoch 20/30\n",
      "11088/11088 [==============================] - 0s 43us/step - loss: 82.3919 - val_loss: 71.2719\n",
      "Epoch 21/30\n",
      "11088/11088 [==============================] - 0s 42us/step - loss: 82.3335 - val_loss: 75.4009\n",
      "Epoch 22/30\n",
      "11088/11088 [==============================] - 0s 44us/step - loss: 82.8286 - val_loss: 73.8586\n",
      "Epoch 23/30\n",
      "11088/11088 [==============================] - 0s 42us/step - loss: 80.9413 - val_loss: 71.1570\n",
      "Epoch 24/30\n",
      "11088/11088 [==============================] - 1s 55us/step - loss: 81.2490 - val_loss: 73.1858\n",
      "Epoch 25/30\n",
      "11088/11088 [==============================] - 0s 42us/step - loss: 81.8135 - val_loss: 70.2790\n",
      "Epoch 26/30\n",
      "11088/11088 [==============================] - 0s 44us/step - loss: 82.1206 - val_loss: 73.8462\n",
      "Epoch 27/30\n",
      "11088/11088 [==============================] - 0s 41us/step - loss: 81.6158 - val_loss: 71.0810\n",
      "Epoch 28/30\n",
      "11088/11088 [==============================] - 0s 44us/step - loss: 81.0282 - val_loss: 82.6758\n",
      "Epoch 29/30\n",
      "11088/11088 [==============================] - 1s 58us/step - loss: 79.5186 - val_loss: 74.8844\n",
      "Epoch 30/30\n",
      "11088/11088 [==============================] - 0s 45us/step - loss: 80.2610 - val_loss: 68.9577\n"
     ]
    },
    {
     "data": {
      "text/plain": [
       "<keras.callbacks.History at 0x7f7050a0eb90>"
      ]
     },
     "execution_count": 32,
     "metadata": {},
     "output_type": "execute_result"
    }
   ],
   "source": [
    "model.fit(x=X_train, \n",
    "          y=y_train, \n",
    "          batch_size=32, \n",
    "          epochs=30, validation_data = (X_val, y_val))"
   ]
  },
  {
   "cell_type": "code",
   "execution_count": 35,
   "metadata": {},
   "outputs": [
    {
     "name": "stdout",
     "output_type": "stream",
     "text": [
      "MSE: 68.9576788146\n",
      "Mean Abs Percentage:0.0981642733332\n"
     ]
    }
   ],
   "source": [
    "def evaluate_model(model, X_val, y_val):\n",
    "    # training error\n",
    "    pred = model.predict(X_val)\n",
    "\n",
    "    error = y_val[:,np.newaxis]-pred\n",
    "    print 'MSE: {}'.format(np.mean(np.square(error)))\n",
    "\n",
    "    # mean absolute percentage\n",
    "    mean_abs_percentage = np.mean(np.abs(error)/y_val[:,np.newaxis])\n",
    "    print 'Mean Abs Percentage:{}'.format(mean_abs_percentage)\n",
    "\n",
    "evaluate_model(model, X_val, y_val)"
   ]
  },
  {
   "cell_type": "code",
   "execution_count": 11,
   "metadata": {},
   "outputs": [
    {
     "name": "stdout",
     "output_type": "stream",
     "text": [
      "99.57645189847871\n",
      "0.11868603329395497\n"
     ]
    }
   ],
   "source": [
    "# test set\n",
    "X_val_np = X_val\n",
    "y_val_np = y_val\n",
    "pred = model.predict(X_val_np)\n",
    "\n",
    "# mean square error\n",
    "error = y_val_np[:,np.newaxis]-pred\n",
    "print np.mean(np.square(error))\n",
    "\n",
    "# mean absolute percentage\n",
    "mean_abs_percentage = np.mean(np.abs(error)/y_val_np[:,np.newaxis])\n",
    "print mean_abs_percentage"
   ]
  },
  {
   "cell_type": "code",
   "execution_count": 12,
   "metadata": {},
   "outputs": [
    {
     "name": "stdout",
     "output_type": "stream",
     "text": [
      "[[ 2.56878949]\n",
      " [ 3.12520735]\n",
      " [ 1.22812887]\n",
      " [ 9.53163675]\n",
      " [-1.83286173]\n",
      " [14.36817481]\n",
      " [ 1.76770871]\n",
      " [ 0.75228073]\n",
      " [-0.21887892]\n",
      " [ 2.00120417]]\n"
     ]
    }
   ],
   "source": [
    "print error[:10]"
   ]
  },
  {
   "cell_type": "code",
   "execution_count": 13,
   "metadata": {},
   "outputs": [
    {
     "name": "stdout",
     "output_type": "stream",
     "text": [
      "(1, 4)\n",
      "[[13.313145]]\n"
     ]
    }
   ],
   "source": [
    "bbox = np.array([[147.,  295.,147+331.,295.+173.]],np.float32)\n",
    "bbox = scaler.transform(bbox)\n",
    "print bbox.shape\n",
    "print model.predict(bbox)"
   ]
  },
  {
   "cell_type": "code",
   "execution_count": 14,
   "metadata": {},
   "outputs": [
    {
     "data": {
      "text/plain": [
       "array([107., 255., 402., 475.])"
      ]
     },
     "execution_count": 14,
     "metadata": {},
     "output_type": "execute_result"
    }
   ],
   "source": [
    "scaler.inverse_transform(X_train[100,:])\n"
   ]
  },
  {
   "cell_type": "code",
   "execution_count": 15,
   "metadata": {},
   "outputs": [
    {
     "data": {
      "text/plain": [
       "array([[-0.1473077,  4.6086993, -4.7980194, -5.175077 ]], dtype=float32)"
      ]
     },
     "execution_count": 15,
     "metadata": {},
     "output_type": "execute_result"
    }
   ],
   "source": [
    "bbox = np.array([[240,300,46,39]],np.float32)\n",
    "scaler.transform(bbox)"
   ]
  },
  {
   "cell_type": "code",
   "execution_count": null,
   "metadata": {},
   "outputs": [],
   "source": []
  }
 ],
 "metadata": {
  "kernelspec": {
   "display_name": "Python 2",
   "language": "python",
   "name": "python2"
  },
  "language_info": {
   "codemirror_mode": {
    "name": "ipython",
    "version": 2
   },
   "file_extension": ".py",
   "mimetype": "text/x-python",
   "name": "python",
   "nbconvert_exporter": "python",
   "pygments_lexer": "ipython2",
   "version": "2.7.12"
  }
 },
 "nbformat": 4,
 "nbformat_minor": 2
}
