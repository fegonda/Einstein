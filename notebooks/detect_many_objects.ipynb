{
 "cells": [
  {
   "cell_type": "markdown",
   "metadata": {},
   "source": [
    "# Detecting many other classes(o) than just vehicles\n",
    "In this notebook we will explore detecting many different classes and observe their bounding boxes etc."
   ]
  },
  {
   "cell_type": "code",
   "execution_count": 1,
   "metadata": {},
   "outputs": [],
   "source": [
    "import sys\n",
    "sys.path.append('/home/robert/PycharmProjects/Einstein/')\n",
    "%load_ext autoreload\n",
    "%autoreload 2"
   ]
  },
  {
   "cell_type": "code",
   "execution_count": 2,
   "metadata": {},
   "outputs": [],
   "source": [
    "from src.detection.object_detector_yolov3 import ObjectDetectorYoloV3\n",
    "import cv2\n",
    "import numpy as np\n",
    "import pandas as pd"
   ]
  },
  {
   "cell_type": "code",
   "execution_count": 3,
   "metadata": {},
   "outputs": [],
   "source": [
    "detector = ObjectDetectorYoloV3()"
   ]
  },
  {
   "cell_type": "code",
   "execution_count": 5,
   "metadata": {},
   "outputs": [],
   "source": [
    "def draw_detections(detections: list, img: np.ndarray, confidence_threshold:float, color=(0,255,0)):\n",
    "    \"\"\"\n",
    "    Draw detections to an image\n",
    "    Args:\n",
    "        detections: list of bounding boxes [[x1, y1, x2, y2], ..., ...]\n",
    "        img: image to draw detections to\n",
    "        confidence_threshold: (0.0 to 1.0) only draw detections above this threshold\n",
    "        color: (Optional) provide a color to draw the bounding boxes\n",
    "        \n",
    "    \"\"\"\n",
    "    bboxes, class_names, confidences = detections\n",
    "    for bbox, class_name, confidence in zip(bboxes, class_names, confidences):\n",
    "        #if class_name.lower() in ['car', 'truck', 'bus', 'van'] and confidence > confidence_threshold:\n",
    "        if True: # NOTE: just draw everything\n",
    "            x1, y1, x2, y2 = bbox\n",
    "            x1, y1, x2, y2 = int(x1), int(y1), int(x2), int(y2)\n",
    "            cv2.rectangle(img, (x1, y1), (x2, y2), color, thickness=2)\n",
    "            text = '{} {:.1f}%'.format(class_name,\n",
    "                                           confidence * 100)\n",
    "            cv2.putText(img, text, (x1, y1-5), 1, 1.5, color, 2)"
   ]
  },
  {
   "cell_type": "code",
   "execution_count": 6,
   "metadata": {},
   "outputs": [],
   "source": [
    "video_file = './videos/pedestrians.mp4'\n",
    "vc = cv2.VideoCapture()\n",
    "vc.open(video_file)\n",
    "\n",
    "while True:\n",
    "    _, img = vc.read()\n",
    "    detections = detector.detect(img=img, return_class_scores=True)\n",
    "    draw_detections(detections, img, confidence_threshold=0.5)\n",
    "    cv2.imshow('detections', img)\n",
    "    key = cv2.waitKey(1)\n",
    "    if key & 0xFF == 27 or key == ord('q'):\n",
    "        break\n",
    "vc.release()\n",
    "cv2.destroyAllWindows()"
   ]
  },
  {
   "cell_type": "code",
   "execution_count": null,
   "metadata": {},
   "outputs": [],
   "source": []
  }
 ],
 "metadata": {
  "kernelspec": {
   "display_name": "Python 3",
   "language": "python",
   "name": "python3"
  },
  "language_info": {
   "codemirror_mode": {
    "name": "ipython",
    "version": 3
   },
   "file_extension": ".py",
   "mimetype": "text/x-python",
   "name": "python",
   "nbconvert_exporter": "python",
   "pygments_lexer": "ipython3",
   "version": "3.5.2"
  }
 },
 "nbformat": 4,
 "nbformat_minor": 2
}
