{
 "cells": [
  {
   "cell_type": "code",
   "execution_count": 1,
   "metadata": {
    "collapsed": true
   },
   "outputs": [],
   "source": [
    "import ctypes"
   ]
  },
  {
   "cell_type": "code",
   "execution_count": 2,
   "metadata": {
    "collapsed": true
   },
   "outputs": [],
   "source": [
    "leddar_clib = ctypes.cdll.LoadLibrary('./libLeddarC.so')"
   ]
  },
  {
   "cell_type": "code",
   "execution_count": 3,
   "metadata": {},
   "outputs": [
    {
     "name": "stdout",
     "output_type": "stream",
     "text": [
      "Successfully connected to sensor.\n"
     ]
    }
   ],
   "source": [
    "handle = leddar_clib.LeddarCreate()\n",
    "handle\n",
    "connection = leddar_clib.LeddarConnect(handle, ctypes.c_char_p(\"USB\"), ctypes.c_char_p(\"AJ21005\"))\n",
    "if connection == 0:\n",
    "    print \"Successfully connected to sensor.\""
   ]
  },
  {
   "cell_type": "code",
   "execution_count": 4,
   "metadata": {},
   "outputs": [
    {
     "data": {
      "text/plain": [
       "31525296"
      ]
     },
     "execution_count": 4,
     "metadata": {},
     "output_type": "execute_result"
    }
   ],
   "source": [
    "handle"
   ]
  },
  {
   "cell_type": "code",
   "execution_count": 5,
   "metadata": {},
   "outputs": [
    {
     "data": {
      "text/plain": [
       "0"
      ]
     },
     "execution_count": 5,
     "metadata": {},
     "output_type": "execute_result"
    }
   ],
   "source": [
    "leddar_clib.LeddarGetConnected(handle)"
   ]
  },
  {
   "cell_type": "code",
   "execution_count": 6,
   "metadata": {},
   "outputs": [
    {
     "name": "stdout",
     "output_type": "stream",
     "text": [
      "successfully started data transfer.\n"
     ]
    }
   ],
   "source": [
    "LDDL_DETECTIONS = 2\n",
    "transfer_success = leddar_clib.LeddarStartDataTransfer( handle, LDDL_DETECTIONS )\n",
    "if transfer_success == 0:\n",
    "    print \"successfully started data transfer.\""
   ]
  },
  {
   "cell_type": "code",
   "execution_count": 7,
   "metadata": {},
   "outputs": [
    {
     "name": "stdout",
     "output_type": "stream",
     "text": [
      "16 detections\n"
     ]
    }
   ],
   "source": [
    "lCount = leddar_clib.LeddarGetDetectionCount( handle )\n",
    "print \"{} detections\".format(lCount)"
   ]
  },
  {
   "cell_type": "code",
   "execution_count": 8,
   "metadata": {
    "collapsed": true
   },
   "outputs": [],
   "source": [
    "import ctypes\n",
    "class LdDetection(ctypes.Structure):\n",
    "    _fields_ = [('mDistance', ctypes.c_float),\n",
    "                ('mAmplitude', ctypes.c_float),\n",
    "                ('mSegment', ctypes.c_ushort),\n",
    "                ('mFlags', ctypes.c_ushort)]\n",
    "    @classmethod\n",
    "    def array(cls, num_elements):\n",
    "        elems = (cls * num_elements)()\n",
    "        struct_array = ctypes.cast(elems, ctypes.POINTER(cls))\n",
    "        return struct_array\n"
   ]
  },
  {
   "cell_type": "code",
   "execution_count": 9,
   "metadata": {
    "scrolled": true
   },
   "outputs": [
    {
     "data": {
      "text/plain": [
       "0"
      ]
     },
     "execution_count": 9,
     "metadata": {},
     "output_type": "execute_result"
    }
   ],
   "source": [
    "struct_array = LdDetection.array(50) # initialise a 50 element array of structs\n",
    "leddar_clib.LeddarGetDetections(handle, struct_array, 50)"
   ]
  },
  {
   "cell_type": "code",
   "execution_count": 10,
   "metadata": {},
   "outputs": [
    {
     "data": {
      "text/plain": [
       "2.880096435546875"
      ]
     },
     "execution_count": 10,
     "metadata": {},
     "output_type": "execute_result"
    }
   ],
   "source": [
    "struct_array[0].mDistance"
   ]
  },
  {
   "cell_type": "code",
   "execution_count": 13,
   "metadata": {
    "collapsed": true
   },
   "outputs": [],
   "source": [
    "from IPython.display import clear_output\n",
    "def pprint(detections, num_detections):\n",
    "    \"\"\"pretty printing of array\"\"\"\n",
    "    pretty_string = ''\n",
    "    for i, detection in enumerate(range(num_detections)):\n",
    "        pretty_string += '{0:0.2f} '.format(float(detections[i].mDistance))\n",
    "    clear_output(wait=True)\n",
    "    print(pretty_string)"
   ]
  },
  {
   "cell_type": "code",
   "execution_count": 14,
   "metadata": {},
   "outputs": [
    {
     "name": "stdout",
     "output_type": "stream",
     "text": [
      "0.60 0.55 0.52 0.48 0.49 1.11 1.98 2.04 2.05 2.05 2.05 2.06 2.07 2.09 2.12 2.21 \n"
     ]
    },
    {
     "ename": "KeyboardInterrupt",
     "evalue": "",
     "output_type": "error",
     "traceback": [
      "\u001b[0;31m---------------------------------------------------------------------------\u001b[0m",
      "\u001b[0;31mKeyboardInterrupt\u001b[0m                         Traceback (most recent call last)",
      "\u001b[0;32m<ipython-input-14-8d6f151680d9>\u001b[0m in \u001b[0;36m<module>\u001b[0;34m()\u001b[0m\n\u001b[1;32m     11\u001b[0m \u001b[0;31m#             print detections[i].mSegment, detections[i].mDistance\u001b[0m\u001b[0;34m\u001b[0m\u001b[0;34m\u001b[0m\u001b[0m\n\u001b[1;32m     12\u001b[0m \u001b[0;31m# #         print detections[0]\u001b[0m\u001b[0;34m\u001b[0m\u001b[0;34m\u001b[0m\u001b[0m\n\u001b[0;32m---> 13\u001b[0;31m         \u001b[0mtime\u001b[0m\u001b[0;34m.\u001b[0m\u001b[0msleep\u001b[0m\u001b[0;34m(\u001b[0m\u001b[0;36m0.1\u001b[0m\u001b[0;34m)\u001b[0m\u001b[0;34m\u001b[0m\u001b[0m\n\u001b[0m\u001b[1;32m     14\u001b[0m \u001b[0;31m#         print '\\r'\u001b[0m\u001b[0;34m\u001b[0m\u001b[0;34m\u001b[0m\u001b[0m\n\u001b[1;32m     15\u001b[0m \u001b[0;31m#         del detections\u001b[0m\u001b[0;34m\u001b[0m\u001b[0;34m\u001b[0m\u001b[0m\n",
      "\u001b[0;31mKeyboardInterrupt\u001b[0m: "
     ]
    }
   ],
   "source": [
    "import datetime\n",
    "import time\n",
    "num_detections = 16\n",
    "detections = LdDetection.array(num_detections) # initialise a N element array of structs\n",
    "while(True):\n",
    "#     detections = LdDetection.array(num_detections) # initialise a N element array of structs\n",
    "    if leddar_clib.LeddarIsNewDataAvailable(handle):\n",
    "        leddar_clib.LeddarGetDetections(handle, detections, num_detections)\n",
    "        pprint(detections, num_detections)\n",
    "        time.sleep(0.1)"
   ]
  },
  {
   "cell_type": "code",
   "execution_count": null,
   "metadata": {
    "collapsed": true
   },
   "outputs": [],
   "source": []
  }
 ],
 "metadata": {
  "kernelspec": {
   "display_name": "Python 2",
   "language": "python",
   "name": "python2"
  },
  "language_info": {
   "codemirror_mode": {
    "name": "ipython",
    "version": 2
   },
   "file_extension": ".py",
   "mimetype": "text/x-python",
   "name": "python",
   "nbconvert_exporter": "python",
   "pygments_lexer": "ipython2",
   "version": "2.7.13"
  }
 },
 "nbformat": 4,
 "nbformat_minor": 2
}
