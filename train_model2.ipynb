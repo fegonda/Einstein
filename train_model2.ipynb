{
 "cells": [
  {
   "cell_type": "code",
   "execution_count": 1,
   "metadata": {},
   "outputs": [
    {
     "name": "stderr",
     "output_type": "stream",
     "text": [
      "Using TensorFlow backend.\n"
     ]
    }
   ],
   "source": [
    "import numpy as np\n",
    "import pandas as pd\n",
    "import keras\n",
    "from keras.models import Sequential\n",
    "\n",
    "from keras.layers import Dense, Dropout\n",
    "# from keras.layers.normalization import BatchNormalization\n",
    "from keras.wrappers.scikit_learn import KerasRegressor\n",
    "from sklearn.model_selection import cross_val_score\n",
    "from sklearn.model_selection import KFold\n",
    "from sklearn.preprocessing import StandardScaler\n",
    "from sklearn.pipeline import Pipeline\n",
    "from sklearn.model_selection import train_test_split"
   ]
  },
  {
   "cell_type": "code",
   "execution_count": 21,
   "metadata": {},
   "outputs": [],
   "source": [
    "df_train = pd.read_csv('./data/asilomar_nov182017_all.csv')\n",
    "# this is actually [u1, v1, u2, v2]\n",
    "X = df_train[['u','v','w','h']]\n",
    "y = df_train['distance']"
   ]
  },
  {
   "cell_type": "code",
   "execution_count": 22,
   "metadata": {},
   "outputs": [],
   "source": [
    "X_train, X_val, y_train, y_val = train_test_split(X,y,test_size=0.30)\n",
    "scaler = StandardScaler()\n",
    "scaler.fit(X_train)\n",
    "X_train = scaler.transform(X_train)\n",
    "X_val = scaler.transform(X_val)"
   ]
  },
  {
   "cell_type": "code",
   "execution_count": 23,
   "metadata": {},
   "outputs": [],
   "source": [
    "NUM_FEATURES = len(X.columns)"
   ]
  },
  {
   "cell_type": "code",
   "execution_count": 32,
   "metadata": {},
   "outputs": [],
   "source": [
    "def dist_regression_model():\n",
    "    model = Sequential()\n",
    "    model.add(Dense(NUM_FEATURES*4, input_dim=NUM_FEATURES, activation='relu'))\n",
    "#     model.add(BatchNormalization())\n",
    "    model.add(Dense(NUM_FEATURES*4, activation='relu'))\n",
    "#     model.add(BatchNormalization())\n",
    "    model.add(Dense(NUM_FEATURES*4, activation='relu'))\n",
    "#     model.add(BatchNormalization())\n",
    "    model.add(Dense(NUM_FEATURES*4, activation='relu'))\n",
    "#     model.add(BatchNormalization())\n",
    "    model.add(Dense(NUM_FEATURES*4, activation='relu'))\n",
    "#     model.add(BatchNormalization())\n",
    "    model.add(Dense(NUM_FEATURES*4, activation='relu'))\n",
    "    model.add(Dense(NUM_FEATURES*4, activation='relu'))\n",
    "    model.add(Dense(1))\n",
    "    model.compile(loss='mean_squared_error', optimizer='adam')\n",
    "    return model"
   ]
  },
  {
   "cell_type": "code",
   "execution_count": 33,
   "metadata": {},
   "outputs": [],
   "source": [
    "model = dist_regression_model()"
   ]
  },
  {
   "cell_type": "code",
   "execution_count": 34,
   "metadata": {},
   "outputs": [
    {
     "name": "stdout",
     "output_type": "stream",
     "text": [
      "(11088, 4)\n",
      "(11088,)\n"
     ]
    }
   ],
   "source": [
    "X_np = X_train\n",
    "print(X_np.shape)\n",
    "y_np = y_train\n",
    "print(y_np.shape)"
   ]
  },
  {
   "cell_type": "code",
   "execution_count": 35,
   "metadata": {},
   "outputs": [
    {
     "name": "stdout",
     "output_type": "stream",
     "text": [
      "Epoch 1/15\n",
      "11088/11088 [==============================] - 1s 106us/step - loss: 932.3553\n",
      "Epoch 2/15\n",
      "11088/11088 [==============================] - 1s 88us/step - loss: 155.2218\n",
      "Epoch 3/15\n",
      "11088/11088 [==============================] - 1s 89us/step - loss: 143.3422\n",
      "Epoch 4/15\n",
      "11088/11088 [==============================] - 1s 89us/step - loss: 133.4575\n",
      "Epoch 5/15\n",
      "11088/11088 [==============================] - 1s 88us/step - loss: 127.1159\n",
      "Epoch 6/15\n",
      "11088/11088 [==============================] - 1s 89us/step - loss: 119.8170\n",
      "Epoch 7/15\n",
      "11088/11088 [==============================] - 1s 89us/step - loss: 116.4159\n",
      "Epoch 8/15\n",
      "11088/11088 [==============================] - 1s 90us/step - loss: 112.6494\n",
      "Epoch 9/15\n",
      "11088/11088 [==============================] - 1s 96us/step - loss: 111.3344\n",
      "Epoch 10/15\n",
      "11088/11088 [==============================] - 1s 91us/step - loss: 109.5190\n",
      "Epoch 11/15\n",
      "11088/11088 [==============================] - 1s 90us/step - loss: 109.0823\n",
      "Epoch 12/15\n",
      "11088/11088 [==============================] - 1s 90us/step - loss: 108.7177\n",
      "Epoch 13/15\n",
      "11088/11088 [==============================] - 1s 91us/step - loss: 106.5444\n",
      "Epoch 14/15\n",
      "11088/11088 [==============================] - 1s 97us/step - loss: 105.4824\n",
      "Epoch 15/15\n",
      "11088/11088 [==============================] - 1s 93us/step - loss: 104.1159\n"
     ]
    },
    {
     "data": {
      "text/plain": [
       "<keras.callbacks.History at 0x7f6c55511b50>"
      ]
     },
     "execution_count": 35,
     "metadata": {},
     "output_type": "execute_result"
    }
   ],
   "source": [
    "model.fit(x=X_np, y=y_np,batch_size=32, epochs=15)"
   ]
  },
  {
   "cell_type": "code",
   "execution_count": 36,
   "metadata": {},
   "outputs": [
    {
     "name": "stdout",
     "output_type": "stream",
     "text": [
      "101.576695473\n",
      "0.122887497203\n"
     ]
    }
   ],
   "source": [
    "# training error\n",
    "pred = model.predict(X_np)\n",
    "\n",
    "error = y_np[:,np.newaxis]-pred\n",
    "print np.mean(np.square(error))\n",
    "\n",
    "# mean absolute percentage\n",
    "mean_abs_percentage = np.mean(np.abs(error)/y_np[:,np.newaxis])\n",
    "print mean_abs_percentage\n",
    "\n"
   ]
  },
  {
   "cell_type": "code",
   "execution_count": 37,
   "metadata": {},
   "outputs": [
    {
     "name": "stdout",
     "output_type": "stream",
     "text": [
      "97.1854886608\n",
      "0.120824845092\n"
     ]
    }
   ],
   "source": [
    "# test set\n",
    "X_val_np = X_val\n",
    "y_val_np = y_val\n",
    "pred = model.predict(X_val_np)\n",
    "\n",
    "# mean square error\n",
    "error = y_val_np[:,np.newaxis]-pred\n",
    "print np.mean(np.square(error))\n",
    "\n",
    "# mean absolute percentage\n",
    "mean_abs_percentage = np.mean(np.abs(error)/y_val_np[:,np.newaxis])\n",
    "print mean_abs_percentage"
   ]
  },
  {
   "cell_type": "code",
   "execution_count": 38,
   "metadata": {},
   "outputs": [
    {
     "name": "stdout",
     "output_type": "stream",
     "text": [
      "[[  0.69305062]\n",
      " [  1.40190018]\n",
      " [-47.57186915]\n",
      " [ -2.92650081]\n",
      " [  6.01505701]\n",
      " [  0.17678195]\n",
      " [ -2.32646895]\n",
      " [  5.97551605]\n",
      " [ -2.25056285]\n",
      " [ -0.76839642]]\n"
     ]
    }
   ],
   "source": [
    "print error[:10]"
   ]
  },
  {
   "cell_type": "code",
   "execution_count": 51,
   "metadata": {},
   "outputs": [
    {
     "name": "stdout",
     "output_type": "stream",
     "text": [
      "(1, 4)\n",
      "[[ 17.30764198]]\n"
     ]
    }
   ],
   "source": [
    "bbox = np.array([[147.,  295.,147+331.,295.+173.]],np.float32)\n",
    "bbox = scaler.transform(bbox)\n",
    "print bbox.shape\n",
    "print model.predict(bbox)"
   ]
  },
  {
   "cell_type": "code",
   "execution_count": 47,
   "metadata": {},
   "outputs": [
    {
     "data": {
      "text/plain": [
       "array([ 256.,  243.,  358.,  337.])"
      ]
     },
     "execution_count": 47,
     "metadata": {},
     "output_type": "execute_result"
    }
   ],
   "source": [
    "scaler.inverse_transform(X_train[100,:])\n"
   ]
  },
  {
   "cell_type": "code",
   "execution_count": 42,
   "metadata": {},
   "outputs": [
    {
     "data": {
      "text/plain": [
       "array([[-0.14987808,  4.66555023, -4.74805546, -5.16080523]], dtype=float32)"
      ]
     },
     "execution_count": 42,
     "metadata": {},
     "output_type": "execute_result"
    }
   ],
   "source": [
    "bbox = np.array([[240,300,46,39]],np.float32)\n",
    "scaler.transform(bbox)"
   ]
  }
 ],
 "metadata": {
  "kernelspec": {
   "display_name": "Python 2",
   "language": "python",
   "name": "python2"
  },
  "language_info": {
   "codemirror_mode": {
    "name": "ipython",
    "version": 2
   },
   "file_extension": ".py",
   "mimetype": "text/x-python",
   "name": "python",
   "nbconvert_exporter": "python",
   "pygments_lexer": "ipython2",
   "version": "2.7.12"
  }
 },
 "nbformat": 4,
 "nbformat_minor": 2
}
